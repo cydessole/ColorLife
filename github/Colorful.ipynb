{
  "nbformat": 4,
  "nbformat_minor": 0,
  "metadata": {
    "colab": {
      "name": "Colorful.ipynb",
      "provenance": [],
      "collapsed_sections": [],
      "machine_shape": "hm"
    },
    "kernelspec": {
      "name": "python3",
      "display_name": "Python 3"
    },
    "accelerator": "GPU"
  },
  "cells": [
    {
      "cell_type": "code",
      "metadata": {
        "id": "G6uq263X0tYr",
        "colab_type": "code",
        "colab": {
          "base_uri": "https://localhost:8080/",
          "height": 34
        },
        "outputId": "ccd9b231-81ad-4294-d363-4007421dcbe0"
      },
      "source": [
        "import os\n",
        "import numpy as np\n",
        "import pandas as pd\n",
        "import matplotlib.pyplot as plt\n",
        "from keras.layers import Conv2D, UpSampling2D, InputLayer, Conv2DTranspose,MaxPool2D\n",
        "from keras.layers import Activation, Dense, Dropout, Flatten\n",
        "from keras.layers.normalization import BatchNormalization\n",
        "from keras.models import Sequential, load_model\n",
        "from keras.callbacks import EarlyStopping, ModelCheckpoint\n",
        "from keras.preprocessing.image import ImageDataGenerator, array_to_img, img_to_array, load_img\n",
        "from skimage.color import rgb2lab, lab2rgb, rgb2gray, xyz2lab\n",
        "from skimage.io import imsave\n",
        "import matplotlib.pyplot as plt\n",
        "import matplotlib.image as mpimg\n",
        "import random\n",
        "import warnings\n",
        "warnings.filterwarnings('ignore')\n",
        "\n",
        "% matplotlib inline\n",
        "\n",
        "#PATH of the project folder\n",
        "PROJECT_ROOT_DIR=os.getcwd()\n",
        "\n",
        "#Create Images folder\n",
        "IMAGES_PATH=os.path.join(PROJECT_ROOT_DIR,\"Images\")\n",
        "if not os.path.exists(IMAGES_PATH):\n",
        "    os.makedirs(IMAGES_PATH)\n",
        "\n",
        "#Function to save figures in the images folder\n",
        "def save_fig(fig_id, tight_layout=True):\n",
        "    path = os.path.join(IMAGES_PATH, fig_id + \".png\")\n",
        "    print(\"Figure {} saved\".format(fig_id))\n",
        "    if tight_layout:\n",
        "        plt.tight_layout()\n",
        "    plt.savefig(path, format='png', dpi=300)\n",
        "    \n",
        "#THRESHOLD for Other function\n",
        "THRESHOLD=300\n",
        "\n"
      ],
      "execution_count": 3,
      "outputs": [
        {
          "output_type": "stream",
          "text": [
            "Using TensorFlow backend.\n"
          ],
          "name": "stderr"
        }
      ]
    },
    {
      "cell_type": "code",
      "metadata": {
        "id": "JFBZnM3azOWv",
        "colab_type": "code",
        "colab": {}
      },
      "source": [
        "from google.colab import drive\n",
        "drive.mount('/content/drive')"
      ],
      "execution_count": 0,
      "outputs": []
    },
    {
      "cell_type": "code",
      "metadata": {
        "id": "aJV2e1ZI0FMc",
        "colab_type": "code",
        "colab": {}
      },
      "source": [
        "train_dir='/content/drive/My Drive/Pictures_Portrait/train/'\n",
        "val_dir='/content/drive/My Drive/Pictures_Portrait/val/'\n",
        "test_dir='/content/drive/My Drive/Pictures_Portrait/test/'"
      ],
      "execution_count": 0,
      "outputs": []
    },
    {
      "cell_type": "code",
      "metadata": {
        "id": "0rAVE2OC2ZIt",
        "colab_type": "code",
        "colab": {}
      },
      "source": [
        "train_dir"
      ],
      "execution_count": 0,
      "outputs": []
    },
    {
      "cell_type": "code",
      "metadata": {
        "id": "tJ-7U0fc0fj8",
        "colab_type": "code",
        "colab": {}
      },
      "source": [
        "def image_random(nbr_img):\n",
        "    name_image=[]\n",
        "    nbr_index=[]\n",
        "    for i in range(nbr_img):\n",
        "        unique=True\n",
        "        path = train_dir\n",
        "        files = [f for f in os.listdir(path) if not f.startswith('.')]\n",
        "        while unique:\n",
        "            index = random.randrange(0, len(files))\n",
        "            if index not in nbr_index:\n",
        "                nbr_index.append(index)\n",
        "                unique=False\n",
        "        name_image.append(files[index])\n",
        "    return name_image"
      ],
      "execution_count": 0,
      "outputs": []
    },
    {
      "cell_type": "code",
      "metadata": {
        "id": "qZSPYLu_1xTG",
        "colab_type": "code",
        "colab": {}
      },
      "source": [
        "random_image=image_random(5)"
      ],
      "execution_count": 0,
      "outputs": []
    },
    {
      "cell_type": "code",
      "metadata": {
        "id": "VNONUHN-02pT",
        "colab_type": "code",
        "colab": {}
      },
      "source": [
        "def visualization_image(files,sizeh,sizev):\n",
        "    length=len(files)\n",
        "    plt.figure(figsize=(sizeh,sizev))\n",
        "    for each in range(len(files)):\n",
        "        plt.subplot(1,length,each+1)\n",
        "        imgplot=mpimg.imread(train_dir+files[each])\n",
        "        plt.imshow(imgplot)\n",
        "        plt.title('{}'.format(files[each],size=14))\n",
        "    plt.tight_layout()\n",
        "    save_fig('Random_Images')\n",
        "    plt.show()"
      ],
      "execution_count": 0,
      "outputs": []
    },
    {
      "cell_type": "code",
      "metadata": {
        "id": "wpRsX1EG13Rz",
        "colab_type": "code",
        "colab": {}
      },
      "source": [
        "visualization_image(random_image,10,10)"
      ],
      "execution_count": 0,
      "outputs": []
    },
    {
      "cell_type": "code",
      "metadata": {
        "id": "LApUH4E1H7Cb",
        "colab_type": "code",
        "colab": {}
      },
      "source": [
        "# Get images\n",
        "X_train = []\n",
        "itr=0\n",
        "for filename in os.listdir(train_dir):\n",
        "    X_train.append(img_to_array(load_img(train_dir+filename)))\n",
        "    itr+=1\n",
        "    print('Image N {} loaded'.format(itr))\n",
        "X_train = np.array(X_train, dtype=float)"
      ],
      "execution_count": 0,
      "outputs": []
    },
    {
      "cell_type": "code",
      "metadata": {
        "id": "PfT6d7QSIafJ",
        "colab_type": "code",
        "colab": {}
      },
      "source": [
        "# Get images\n",
        "X_val = []\n",
        "itr=0\n",
        "for filename in os.listdir(val_dir):\n",
        "    X_val.append(img_to_array(load_img(val_dir+filename)))\n",
        "    itr+=1\n",
        "    print('Image N {} loaded'.format(itr))\n",
        "X_val = np.array(X_val, dtype=float)"
      ],
      "execution_count": 0,
      "outputs": []
    },
    {
      "cell_type": "code",
      "metadata": {
        "id": "IGtJ3PT5UzhA",
        "colab_type": "code",
        "colab": {}
      },
      "source": [
        "X_train = 1.0/255*X_train\n",
        "X_val = 1.0/255*X_val"
      ],
      "execution_count": 0,
      "outputs": []
    },
    {
      "cell_type": "code",
      "metadata": {
        "id": "LDwDgs4Z4e8d",
        "colab_type": "code",
        "outputId": "f8d29b7b-c3e2-4837-9742-9508cf788591",
        "colab": {
          "base_uri": "https://localhost:8080/",
          "height": 34
        }
      },
      "source": [
        "X_train.shape"
      ],
      "execution_count": 0,
      "outputs": [
        {
          "output_type": "execute_result",
          "data": {
            "text/plain": [
              "(5000, 128, 128, 3)"
            ]
          },
          "metadata": {
            "tags": []
          },
          "execution_count": 272
        }
      ]
    },
    {
      "cell_type": "code",
      "metadata": {
        "id": "NVpDpMCDDMtr",
        "colab_type": "code",
        "colab": {}
      },
      "source": [
        "# Image transformer\n",
        "train_datagen = ImageDataGenerator(\n",
        "        shear_range=0.2,\n",
        "        zoom_range=0.2,\n",
        "        rotation_range=20,\n",
        "        horizontal_flip=True)\n",
        "val_datagen=ImageDataGenerator()\n",
        "# Generate training data\n",
        "def image_a_b_gen(X,batch_size,gen):\n",
        "    for batch in gen.flow(X, batch_size=batch_size):\n",
        "        lab_batch = rgb2lab(batch)\n",
        "        X_batch = lab_batch[:,:,:,0]\n",
        "        Y_batch = lab_batch[:,:,:,1:] / 128\n",
        "        X_batch = X_batch.reshape(X_batch.shape+(1,))\n",
        "        yield (X_batch, Y_batch)"
      ],
      "execution_count": 0,
      "outputs": []
    },
    {
      "cell_type": "code",
      "metadata": {
        "id": "4HO84DWjPUMB",
        "colab_type": "code",
        "colab": {}
      },
      "source": [
        "train_length=len([f for f in os.listdir(train_dir) if not f.startswith('.')])\n",
        "val_length=len([f for f in os.listdir(val_dir) if not f.startswith('.')])"
      ],
      "execution_count": 0,
      "outputs": []
    },
    {
      "cell_type": "code",
      "metadata": {
        "id": "fWNr1w7gPJ2N",
        "colab_type": "code",
        "colab": {}
      },
      "source": [
        "steps_train=np.ceil(train_length/16)\n",
        "steps_val=np.ceil(val_length/16)"
      ],
      "execution_count": 0,
      "outputs": []
    },
    {
      "cell_type": "code",
      "metadata": {
        "id": "VnXG_YTtPd9b",
        "colab_type": "code",
        "outputId": "787e6d69-9b81-476e-e638-fe60242f1d1c",
        "colab": {
          "base_uri": "https://localhost:8080/",
          "height": 34
        }
      },
      "source": [
        "steps_train,steps_val"
      ],
      "execution_count": 0,
      "outputs": [
        {
          "output_type": "execute_result",
          "data": {
            "text/plain": [
              "(313.0, 32.0)"
            ]
          },
          "metadata": {
            "tags": []
          },
          "execution_count": 276
        }
      ]
    },
    {
      "cell_type": "code",
      "metadata": {
        "id": "EjPSOQyQQ6Hw",
        "colab_type": "code",
        "colab": {}
      },
      "source": [
        "es = EarlyStopping(monitor='val_loss', mode='min', verbose=1, patience=5)\n",
        "mc = ModelCheckpoint('best_model.h5', monitor='val_loss', mode='min', save_best_only=True, verbose=1)"
      ],
      "execution_count": 0,
      "outputs": []
    },
    {
      "cell_type": "code",
      "metadata": {
        "id": "zA_l0z4dnjpr",
        "colab_type": "code",
        "colab": {}
      },
      "source": [
        "model = Sequential()\n",
        "#model.add(InputLayer(input_shape=(None, None, 1)))\n",
        "model.add(Conv2D(64, (3, 3), activation='relu', padding='same',input_shape=(None,None,1)))\n",
        "model.add(Conv2D(64, (3, 3), activation='relu', padding='same', strides=2))\n",
        "model.add(Conv2D(128, (3, 3), activation='relu', padding='same'))\n",
        "model.add(Conv2D(128, (3, 3), activation='relu', padding='same', strides=2))\n",
        "model.add(Conv2D(256, (3, 3), activation='relu', padding='same'))\n",
        "model.add(Conv2D(256, (3, 3), activation='relu', padding='same', strides=2))\n",
        "model.add(Conv2D(512, (3, 3), activation='relu', padding='same'))\n",
        "model.add(Conv2D(256, (3, 3), activation='relu', padding='same'))\n",
        "model.add(Conv2D(128, (3, 3), activation='relu', padding='same'))\n",
        "model.add(UpSampling2D((2, 2)))\n",
        "model.add(Conv2D(64, (3, 3), activation='relu', padding='same'))\n",
        "model.add(UpSampling2D((2, 2)))\n",
        "model.add(Conv2D(32, (3, 3), activation='relu', padding='same'))\n",
        "model.add(Conv2D(2, (3, 3), activation='tanh', padding='same'))\n",
        "model.add(UpSampling2D((2, 2)))\n",
        "model.compile(optimizer='rmsprop', loss='mse')"
      ],
      "execution_count": 0,
      "outputs": []
    },
    {
      "cell_type": "code",
      "metadata": {
        "id": "pzUOVr6kV-3j",
        "colab_type": "code",
        "outputId": "49cbc028-c350-4af3-9093-887b563f69e1",
        "colab": {
          "base_uri": "https://localhost:8080/",
          "height": 663
        }
      },
      "source": [
        "model.summary()"
      ],
      "execution_count": 0,
      "outputs": [
        {
          "output_type": "stream",
          "text": [
            "Model: \"sequential_12\"\n",
            "_________________________________________________________________\n",
            "Layer (type)                 Output Shape              Param #   \n",
            "=================================================================\n",
            "conv2d_122 (Conv2D)          (None, None, None, 64)    640       \n",
            "_________________________________________________________________\n",
            "conv2d_123 (Conv2D)          (None, None, None, 64)    36928     \n",
            "_________________________________________________________________\n",
            "conv2d_124 (Conv2D)          (None, None, None, 128)   73856     \n",
            "_________________________________________________________________\n",
            "conv2d_125 (Conv2D)          (None, None, None, 128)   147584    \n",
            "_________________________________________________________________\n",
            "conv2d_126 (Conv2D)          (None, None, None, 256)   295168    \n",
            "_________________________________________________________________\n",
            "conv2d_127 (Conv2D)          (None, None, None, 256)   590080    \n",
            "_________________________________________________________________\n",
            "conv2d_128 (Conv2D)          (None, None, None, 512)   1180160   \n",
            "_________________________________________________________________\n",
            "conv2d_129 (Conv2D)          (None, None, None, 256)   1179904   \n",
            "_________________________________________________________________\n",
            "conv2d_130 (Conv2D)          (None, None, None, 128)   295040    \n",
            "_________________________________________________________________\n",
            "up_sampling2d_31 (UpSampling (None, None, None, 128)   0         \n",
            "_________________________________________________________________\n",
            "conv2d_131 (Conv2D)          (None, None, None, 64)    73792     \n",
            "_________________________________________________________________\n",
            "up_sampling2d_32 (UpSampling (None, None, None, 64)    0         \n",
            "_________________________________________________________________\n",
            "conv2d_132 (Conv2D)          (None, None, None, 32)    18464     \n",
            "_________________________________________________________________\n",
            "conv2d_133 (Conv2D)          (None, None, None, 2)     578       \n",
            "_________________________________________________________________\n",
            "up_sampling2d_33 (UpSampling (None, None, None, 2)     0         \n",
            "=================================================================\n",
            "Total params: 3,892,194\n",
            "Trainable params: 3,892,194\n",
            "Non-trainable params: 0\n",
            "_________________________________________________________________\n"
          ],
          "name": "stdout"
        }
      ]
    },
    {
      "cell_type": "code",
      "metadata": {
        "id": "UN7l1LFeNMNX",
        "colab_type": "code",
        "outputId": "c59d9a90-232e-4ccc-ab00-a0772c79b221",
        "colab": {
          "base_uri": "https://localhost:8080/",
          "height": 1000
        }
      },
      "source": [
        "# Train model      \n",
        "history=model.fit_generator(   \n",
        "    image_a_b_gen(X_train,16,train_datagen),\n",
        "    steps_per_epoch=steps_train,\n",
        "    epochs=150,\n",
        "    validation_data=image_a_b_gen(X_val,16,val_datagen),\n",
        "    validation_steps=steps_val,\n",
        "    callbacks=[es, mc]\n",
        "    )"
      ],
      "execution_count": 0,
      "outputs": [
        {
          "output_type": "stream",
          "text": [
            "Epoch 1/150\n",
            "313/313 [==============================] - 42s 135ms/step - loss: 0.0290 - val_loss: 0.0094\n",
            "\n",
            "Epoch 00001: val_loss improved from inf to 0.00940, saving model to best_model.h5\n",
            "Epoch 2/150\n",
            "313/313 [==============================] - 39s 125ms/step - loss: 0.0096 - val_loss: 0.0091\n",
            "\n",
            "Epoch 00002: val_loss improved from 0.00940 to 0.00911, saving model to best_model.h5\n",
            "Epoch 3/150\n",
            "313/313 [==============================] - 39s 126ms/step - loss: 0.0092 - val_loss: 0.0090\n",
            "\n",
            "Epoch 00003: val_loss improved from 0.00911 to 0.00897, saving model to best_model.h5\n",
            "Epoch 4/150\n",
            "313/313 [==============================] - 39s 125ms/step - loss: 0.0092 - val_loss: 0.0088\n",
            "\n",
            "Epoch 00004: val_loss improved from 0.00897 to 0.00882, saving model to best_model.h5\n",
            "Epoch 5/150\n",
            "313/313 [==============================] - 39s 126ms/step - loss: 0.0091 - val_loss: 0.0089\n",
            "\n",
            "Epoch 00005: val_loss did not improve from 0.00882\n",
            "Epoch 6/150\n",
            "313/313 [==============================] - 39s 126ms/step - loss: 0.0090 - val_loss: 0.0094\n",
            "\n",
            "Epoch 00006: val_loss did not improve from 0.00882\n",
            "Epoch 7/150\n",
            "313/313 [==============================] - 39s 125ms/step - loss: 0.0089 - val_loss: 0.0087\n",
            "\n",
            "Epoch 00007: val_loss improved from 0.00882 to 0.00867, saving model to best_model.h5\n",
            "Epoch 8/150\n",
            "313/313 [==============================] - 39s 126ms/step - loss: 0.0089 - val_loss: 0.0088\n",
            "\n",
            "Epoch 00008: val_loss did not improve from 0.00867\n",
            "Epoch 9/150\n",
            "313/313 [==============================] - 39s 126ms/step - loss: 0.0088 - val_loss: 0.0090\n",
            "\n",
            "Epoch 00009: val_loss did not improve from 0.00867\n",
            "Epoch 10/150\n",
            "313/313 [==============================] - 39s 125ms/step - loss: 0.0088 - val_loss: 0.0086\n",
            "\n",
            "Epoch 00010: val_loss improved from 0.00867 to 0.00859, saving model to best_model.h5\n",
            "Epoch 11/150\n",
            "313/313 [==============================] - 39s 125ms/step - loss: 0.0088 - val_loss: 0.0086\n",
            "\n",
            "Epoch 00011: val_loss did not improve from 0.00859\n",
            "Epoch 12/150\n",
            "313/313 [==============================] - 39s 125ms/step - loss: 0.0088 - val_loss: 0.0090\n",
            "\n",
            "Epoch 00012: val_loss did not improve from 0.00859\n",
            "Epoch 13/150\n",
            "313/313 [==============================] - 39s 125ms/step - loss: 0.0087 - val_loss: 0.0087\n",
            "\n",
            "Epoch 00013: val_loss did not improve from 0.00859\n",
            "Epoch 14/150\n",
            "313/313 [==============================] - 39s 126ms/step - loss: 0.0087 - val_loss: 0.0086\n",
            "\n",
            "Epoch 00014: val_loss improved from 0.00859 to 0.00856, saving model to best_model.h5\n",
            "Epoch 15/150\n",
            "313/313 [==============================] - 39s 126ms/step - loss: 0.0087 - val_loss: 0.0086\n",
            "\n",
            "Epoch 00015: val_loss did not improve from 0.00856\n",
            "Epoch 16/150\n",
            "313/313 [==============================] - 39s 125ms/step - loss: 0.0087 - val_loss: 0.0086\n",
            "\n",
            "Epoch 00016: val_loss did not improve from 0.00856\n",
            "Epoch 17/150\n",
            "313/313 [==============================] - 39s 125ms/step - loss: 0.0086 - val_loss: 0.0086\n",
            "\n",
            "Epoch 00017: val_loss did not improve from 0.00856\n",
            "Epoch 18/150\n",
            "313/313 [==============================] - 39s 126ms/step - loss: 0.0086 - val_loss: 0.0085\n",
            "\n",
            "Epoch 00018: val_loss improved from 0.00856 to 0.00853, saving model to best_model.h5\n",
            "Epoch 19/150\n",
            "313/313 [==============================] - 39s 126ms/step - loss: 0.0086 - val_loss: 0.0086\n",
            "\n",
            "Epoch 00019: val_loss did not improve from 0.00853\n",
            "Epoch 20/150\n",
            "313/313 [==============================] - 39s 125ms/step - loss: 0.0086 - val_loss: 0.0087\n",
            "\n",
            "Epoch 00020: val_loss did not improve from 0.00853\n",
            "Epoch 21/150\n",
            "313/313 [==============================] - 39s 125ms/step - loss: 0.0086 - val_loss: 0.0086\n",
            "\n",
            "Epoch 00021: val_loss did not improve from 0.00853\n",
            "Epoch 22/150\n",
            "313/313 [==============================] - 39s 125ms/step - loss: 0.0085 - val_loss: 0.0085\n",
            "\n",
            "Epoch 00022: val_loss did not improve from 0.00853\n",
            "Epoch 23/150\n",
            "313/313 [==============================] - 39s 124ms/step - loss: 0.0086 - val_loss: 0.0087\n",
            "\n",
            "Epoch 00023: val_loss did not improve from 0.00853\n",
            "Epoch 00023: early stopping\n"
          ],
          "name": "stdout"
        }
      ]
    },
    {
      "cell_type": "markdown",
      "metadata": {
        "id": "0nizB6QbVv1W",
        "colab_type": "toc"
      },
      "source": [
        ""
      ]
    },
    {
      "cell_type": "code",
      "metadata": {
        "id": "VSwrJKOzSxQ8",
        "colab_type": "code",
        "colab": {}
      },
      "source": [
        "def plot_training(history):\n",
        "    loss=history.history['loss']\n",
        "    val_loss=history.history['val_loss']\n",
        "\n",
        "    epochs=range(1,len(loss)+1)\n",
        "\n",
        "    plt.plot(epochs,loss,'bo',label='Training loss')\n",
        "    plt.plot(epochs,val_loss,'b',label='Validation loss')\n",
        "    plt.title('Training and Validation loss')\n",
        "    plt.legend()\n",
        "\n",
        "    plt.show()"
      ],
      "execution_count": 0,
      "outputs": []
    },
    {
      "cell_type": "code",
      "metadata": {
        "id": "aTcmSeEDXQPj",
        "colab_type": "code",
        "outputId": "5e9a42ad-4e57-43cb-9f70-bf323d20faca",
        "colab": {
          "base_uri": "https://localhost:8080/",
          "height": 34
        }
      },
      "source": [
        "# list all data in history\n",
        "print(history.history.keys())"
      ],
      "execution_count": 0,
      "outputs": [
        {
          "output_type": "stream",
          "text": [
            "dict_keys(['val_loss', 'loss'])\n"
          ],
          "name": "stdout"
        }
      ]
    },
    {
      "cell_type": "code",
      "metadata": {
        "id": "8CSaUxHFWdPU",
        "colab_type": "code",
        "outputId": "c522b6f4-f802-46ef-e24d-ec5e9fd1141f",
        "colab": {
          "base_uri": "https://localhost:8080/",
          "height": 281
        }
      },
      "source": [
        "plot_training(history)"
      ],
      "execution_count": 0,
      "outputs": [
        {
          "output_type": "display_data",
          "data": {
            "image/png": "[encoded data removed]",
            "text/plain": [
              "<Figure size 432x288 with 1 Axes>"
            ]
          },
          "metadata": {
            "tags": []
          }
        }
      ]
    },
    {
      "cell_type": "code",
      "metadata": {
        "id": "BB7rrty2CXl0",
        "colab_type": "code",
        "colab": {}
      },
      "source": [
        "model.save('colorful_model.h5')"
      ],
      "execution_count": 0,
      "outputs": []
    },
    {
      "cell_type": "code",
      "metadata": {
        "id": "xnX33aFkbQNz",
        "colab_type": "code",
        "colab": {}
      },
      "source": [
        "color_me = []\n",
        "for filename in os.listdir(test_dir):\n",
        "    color_me.append(img_to_array(load_img(test_dir+filename)))\n",
        "color_me = np.array(color_me, dtype=float)\n",
        "color_me = rgb2lab(1.0/255*color_me)[:,:,:,0]\n",
        "color_me = color_me.reshape(color_me.shape+(1,))\n",
        "\n",
        "# Test model\n",
        "output = model.predict(color_me)\n",
        "output = output * 128"
      ],
      "execution_count": 0,
      "outputs": []
    },
    {
      "cell_type": "code",
      "metadata": {
        "id": "opMYrB4JFECM",
        "colab_type": "code",
        "colab": {}
      },
      "source": [
        "RESULT_PATH=os.path.join(os.getcwd(),\"result\")\n",
        "if not os.path.exists(RESULT_PATH):\n",
        "    os.makedirs(RESULT_PATH)"
      ],
      "execution_count": 0,
      "outputs": []
    },
    {
      "cell_type": "code",
      "metadata": {
        "id": "s1KlqMkTElAv",
        "colab_type": "code",
        "colab": {}
      },
      "source": [
        "# Output colorizations\n",
        "for i in range(len(output)):\n",
        "    h,w,_=output[i].shape\n",
        "    cur = np.zeros((h, w, 3))\n",
        "    cur[:,:,0] = color_me[i][:,:,0]\n",
        "    cur[:,:,1:] = output[i]\n",
        "    imsave(\"result/img_\"+str(i)+\".png\", lab2rgb(cur))"
      ],
      "execution_count": 0,
      "outputs": []
    },
    {
      "cell_type": "code",
      "metadata": {
        "id": "X9IDblJOBy-A",
        "colab_type": "code",
        "colab": {}
      },
      "source": [
        "from math import ceil, log, floor\n",
        "def closest_power(x):\n",
        "    up=abs(np.power(2,ceil(log(x,2)))-x)\n",
        "    down=abs(np.power(2,floor(log(x,2)))-x)\n",
        "    if up==min(down,up) and up!=down :\n",
        "        value= np.power(2,ceil(log(x,2)))\n",
        "    else:\n",
        "        value= np.power(2,floor(log(x,2)))\n",
        "    if value >256 :\n",
        "        return 256\n",
        "    else :\n",
        "        return value\n"
      ],
      "execution_count": 0,
      "outputs": []
    },
    {
      "cell_type": "code",
      "metadata": {
        "id": "Gy_GsYy_o22z",
        "colab_type": "code",
        "colab": {}
      },
      "source": [
        "model=load_model('/content/drive/My Drive/colorful_model1.h5')"
      ],
      "execution_count": 0,
      "outputs": []
    },
    {
      "cell_type": "code",
      "metadata": {
        "id": "I6lbisE3TmFO",
        "colab_type": "code",
        "outputId": "4dc578dd-5c10-4faf-a35e-a56d0fe5b8c3",
        "colab": {
          "base_uri": "https://localhost:8080/",
          "height": 286
        }
      },
      "source": [
        "from PIL import Image\n",
        "from skimage.transform import  resize\n",
        "\n",
        "im = Image.open('Photo_test3.jpeg')\n",
        "width, height = im.size\n",
        "width_2=closest_power(width)\n",
        "height_2=closest_power(height)\n",
        "color_me=[]\n",
        "color_me.append(img_to_array(load_img('Photo_test3.jpeg',target_size=(width_2,height_2))))\n",
        "\n",
        "#color_me[i]=cv2.resize(color_me[i],(1024,1024))\n",
        "color_me = np.array(color_me, dtype=float)\n",
        "color_me = rgb2lab(1.0/255*color_me)[:,:,:,0]\n",
        "color_me = color_me.reshape(color_me.shape+(1,))\n",
        "output = model.predict(color_me)\n",
        "output = output * 128\n",
        "for i in range(len(output)):\n",
        "    cur = np.zeros((width_2, height_2, 3))\n",
        "    cur[:,:,0] = color_me[i][:,:,0]\n",
        "    cur[:,:,1:] = output[i]\n",
        "    cur=resize(cur,(height,width))\n",
        "plt.imshow(lab2rgb(cur))"
      ],
      "execution_count": 10,
      "outputs": [
        {
          "output_type": "execute_result",
          "data": {
            "text/plain": [
              "<matplotlib.image.AxesImage at 0x7f397c4f80b8>"
            ]
          },
          "metadata": {
            "tags": []
          },
          "execution_count": 10
        },
        {
          "output_type": "display_data",
          "data": {
            "image/png": "[encoded data removed]",
            "text/plain": [
              "<Figure size 432x288 with 1 Axes>"
            ]
          },
          "metadata": {
            "tags": []
          }
        }
      ]
    },
    {
      "cell_type": "code",
      "metadata": {
        "id": "RiFH0De4S-_g",
        "colab_type": "code",
        "colab": {
          "base_uri": "https://localhost:8080/",
          "height": 54
        },
        "outputId": "faead67d-7981-4141-d25c-0762301230ce"
      },
      "source": [
        "imsave('After_Photo.png',lab2rgb(cur))"
      ],
      "execution_count": 11,
      "outputs": [
        {
          "output_type": "stream",
          "text": [
            "WARNING:root:Lossy conversion from float64 to uint8. Range [0, 1]. Convert image to uint8 prior to saving to suppress this warning.\n"
          ],
          "name": "stderr"
        }
      ]
    },
    {
      "cell_type": "code",
      "metadata": {
        "id": "7A5mLFOBC_1O",
        "colab_type": "code",
        "colab": {}
      },
      "source": [
        ""
      ],
      "execution_count": 0,
      "outputs": []
    }
  ]
}